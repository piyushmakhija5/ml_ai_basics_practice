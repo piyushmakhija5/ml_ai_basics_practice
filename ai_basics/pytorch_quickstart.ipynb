{
 "cells": [
  {
   "cell_type": "markdown",
   "id": "971ff473",
   "metadata": {},
   "source": [
    "# Pytorch QuickStart"
   ]
  },
  {
   "cell_type": "markdown",
   "id": "d82cec97",
   "metadata": {},
   "source": [
    "https://pytorch.org/tutorials/beginner/basics/quickstart_tutorial.html"
   ]
  },
  {
   "cell_type": "code",
   "execution_count": 1,
   "id": "56f3a28b",
   "metadata": {},
   "outputs": [],
   "source": [
    "import torch\n",
    "from torch import nn\n",
    "from torch.utils.data import DataLoader\n",
    "from torchvision import datasets\n",
    "from torchvision.transforms import ToTensor"
   ]
  },
  {
   "cell_type": "code",
   "execution_count": 2,
   "id": "444d5429",
   "metadata": {},
   "outputs": [],
   "source": [
    "trainingData = datasets.FashionMNIST(\n",
    "    root='./data',\n",
    "    train=True,\n",
    "    download=True,\n",
    "    transform=ToTensor(),\n",
    ")\n",
    "\n",
    "testData = datasets.FashionMNIST(\n",
    "    root='data',\n",
    "    train=False,\n",
    "    download=False,\n",
    "    transform=ToTensor()\n",
    ")"
   ]
  },
  {
   "cell_type": "code",
   "execution_count": 3,
   "id": "6d08388a",
   "metadata": {},
   "outputs": [
    {
     "name": "stdout",
     "output_type": "stream",
     "text": [
      "Shape of X [N, C, H, W]: torch.Size([64, 1, 28, 28])\n",
      "Shape of y: torch.Size([64]), torch.int64\n"
     ]
    }
   ],
   "source": [
    "batch_size = 64\n",
    "\n",
    "trainDataLoader = DataLoader(trainingData, batch_size)\n",
    "testDataLoader = DataLoader(testData, batch_size)\n",
    "\n",
    "for X, y in trainDataLoader:\n",
    "    print(f\"Shape of X [N, C, H, W]: {X.shape}\")\n",
    "    print(f\"Shape of y: {y.shape}, {y.dtype}\")\n",
    "    break"
   ]
  },
  {
   "cell_type": "code",
   "execution_count": 4,
   "id": "6be14ed8",
   "metadata": {},
   "outputs": [
    {
     "name": "stdout",
     "output_type": "stream",
     "text": [
      "cpu\n"
     ]
    }
   ],
   "source": [
    "device = (\"cuda\" if torch.cuda.is_available()\n",
    "         else \"mpu\" if torch.backends.mps.is_available()\n",
    "         else \"cpu\")\n",
    "print(device)"
   ]
  },
  {
   "cell_type": "code",
   "execution_count": 11,
   "id": "37f6f9a7",
   "metadata": {},
   "outputs": [],
   "source": [
    "class NeuralNetwork(nn.Module):\n",
    "    def __init__(self):\n",
    "        super().__init__()\n",
    "        self.flatten = nn.Flatten()\n",
    "        self.linear_relu_stack = nn.Sequential(\n",
    "            nn.Linear(28*28, 512),\n",
    "            nn.ReLU(),\n",
    "            nn.Linear(512, 512),\n",
    "            nn.ReLU(),\n",
    "            nn.Linear(512,10)\n",
    "        )\n",
    "        \n",
    "    def forward(self, x):\n",
    "        x = self.flatten(x)\n",
    "        logits = self.linear_relu_stack(x)\n",
    "        return logits"
   ]
  },
  {
   "cell_type": "code",
   "execution_count": 12,
   "id": "0b9a8ae4",
   "metadata": {},
   "outputs": [
    {
     "name": "stdout",
     "output_type": "stream",
     "text": [
      "NeuralNetwork(\n",
      "  (flatten): Flatten(start_dim=1, end_dim=-1)\n",
      "  (linear_relu_stack): Sequential(\n",
      "    (0): Linear(in_features=784, out_features=512, bias=True)\n",
      "    (1): ReLU()\n",
      "    (2): Linear(in_features=512, out_features=512, bias=True)\n",
      "    (3): ReLU()\n",
      "    (4): Linear(in_features=512, out_features=10, bias=True)\n",
      "  )\n",
      ")\n"
     ]
    }
   ],
   "source": [
    "model = NeuralNetwork().to(device)\n",
    "print(model)"
   ]
  },
  {
   "cell_type": "code",
   "execution_count": 13,
   "id": "27f60124",
   "metadata": {},
   "outputs": [],
   "source": [
    "loss_fn = nn.CrossEntropyLoss()\n",
    "optimizer = torch.optim.SGD(model.parameters(), lr=1e-3)"
   ]
  },
  {
   "cell_type": "code",
   "execution_count": 14,
   "id": "bd3dc4ca",
   "metadata": {},
   "outputs": [],
   "source": [
    "def train(dataLoader, model, loss_fn, optimizer):\n",
    "    size = len(dataLoader.dataset)\n",
    "    model.train()\n",
    "    for batch, (X,y) in enumerate(dataLoader):\n",
    "        X,y = X.to(device), y.to(device)\n",
    "        \n",
    "        # Compute prediction errors\n",
    "        pred = model(X)\n",
    "        loss = loss_fn(pred, y)\n",
    "        \n",
    "        # Backpropogation\n",
    "        loss.backward()\n",
    "        optimizer.step()\n",
    "        optimizer.zero_grad()\n",
    "        \n",
    "        if batch % 100 == 0:\n",
    "            loss, current = loss.item(), (batch+1)*len(X)\n",
    "            print(f\"loss: {loss:>7f} [{current:>5d}/{size:>5d}]\")"
   ]
  },
  {
   "cell_type": "code",
   "execution_count": 15,
   "id": "51701e25",
   "metadata": {},
   "outputs": [],
   "source": [
    "def test(dataLoder, model, loss_fn):\n",
    "    size = len(dataLoder.dataset)\n",
    "    num_batches = len(dataLoder)\n",
    "    model.eval()\n",
    "    test_loss, correct = 0,0\n",
    "    with torch.no_grad():\n",
    "        for X, y in dataLoder:\n",
    "            X, y = X.to(device), y.to(device)\n",
    "            pred = model(X)\n",
    "            test_loss += loss_fn(pred,y).item()\n",
    "            correct += (pred.argmax(1)==y).type(torch.float).sum().item()\n",
    "    test_loss /= num_batches\n",
    "    correct /= size\n",
    "    print(f\"Test Error: \\nAccuracy: {100*correct:>0.1f}%, Avg Loss: {test_loss:>8f}\\n\")"
   ]
  },
  {
   "cell_type": "code",
   "execution_count": 16,
   "id": "5b5076a5",
   "metadata": {},
   "outputs": [
    {
     "name": "stdout",
     "output_type": "stream",
     "text": [
      "Epoch 1\n",
      "------------\n",
      "loss: 2.299843 [   64/60000]\n",
      "loss: 2.292382 [ 6464/60000]\n",
      "loss: 2.279303 [12864/60000]\n",
      "loss: 2.277548 [19264/60000]\n",
      "loss: 2.253531 [25664/60000]\n",
      "loss: 2.231039 [32064/60000]\n",
      "loss: 2.231089 [38464/60000]\n",
      "loss: 2.200249 [44864/60000]\n",
      "loss: 2.198424 [51264/60000]\n",
      "loss: 2.175351 [57664/60000]\n",
      "Test Error: \n",
      "Accuracy: 46.7%, Avg Loss: 2.164085\n",
      "\n",
      "Epoch 2\n",
      "------------\n",
      "loss: 2.162625 [   64/60000]\n",
      "loss: 2.155044 [ 6464/60000]\n",
      "loss: 2.108943 [12864/60000]\n",
      "loss: 2.129638 [19264/60000]\n",
      "loss: 2.068275 [25664/60000]\n",
      "loss: 2.024422 [32064/60000]\n",
      "loss: 2.042187 [38464/60000]\n",
      "loss: 1.971212 [44864/60000]\n",
      "loss: 1.975493 [51264/60000]\n",
      "loss: 1.908477 [57664/60000]\n",
      "Test Error: \n",
      "Accuracy: 58.7%, Avg Loss: 1.901243\n",
      "\n",
      "Epoch 3\n",
      "------------\n",
      "loss: 1.922940 [   64/60000]\n",
      "loss: 1.892812 [ 6464/60000]\n",
      "loss: 1.790696 [12864/60000]\n",
      "loss: 1.833462 [19264/60000]\n",
      "loss: 1.714584 [25664/60000]\n",
      "loss: 1.674090 [32064/60000]\n",
      "loss: 1.692048 [38464/60000]\n",
      "loss: 1.597972 [44864/60000]\n",
      "loss: 1.618531 [51264/60000]\n",
      "loss: 1.518283 [57664/60000]\n",
      "Test Error: \n",
      "Accuracy: 62.5%, Avg Loss: 1.531504\n",
      "\n",
      "Epoch 4\n",
      "------------\n",
      "loss: 1.589627 [   64/60000]\n",
      "loss: 1.552771 [ 6464/60000]\n",
      "loss: 1.416163 [12864/60000]\n",
      "loss: 1.486430 [19264/60000]\n",
      "loss: 1.361893 [25664/60000]\n",
      "loss: 1.357255 [32064/60000]\n",
      "loss: 1.373370 [38464/60000]\n",
      "loss: 1.299401 [44864/60000]\n",
      "loss: 1.329115 [51264/60000]\n",
      "loss: 1.234731 [57664/60000]\n",
      "Test Error: \n",
      "Accuracy: 64.0%, Avg Loss: 1.257710\n",
      "\n",
      "Epoch 5\n",
      "------------\n",
      "loss: 1.327308 [   64/60000]\n",
      "loss: 1.307374 [ 6464/60000]\n",
      "loss: 1.151759 [12864/60000]\n",
      "loss: 1.255610 [19264/60000]\n",
      "loss: 1.129498 [25664/60000]\n",
      "loss: 1.148702 [32064/60000]\n",
      "loss: 1.175660 [38464/60000]\n",
      "loss: 1.112627 [44864/60000]\n",
      "loss: 1.146921 [51264/60000]\n",
      "loss: 1.068618 [57664/60000]\n",
      "Test Error: \n",
      "Accuracy: 65.2%, Avg Loss: 1.087086\n",
      "\n",
      "Done!\n"
     ]
    }
   ],
   "source": [
    "epochs = 5\n",
    "for t in range(epochs):\n",
    "    print(f\"Epoch {t+1}\\n------------\")\n",
    "    train(trainDataLoader, model, loss_fn, optimizer)\n",
    "    test(testDataLoader, model, loss_fn)\n",
    "print(\"Done!\")"
   ]
  },
  {
   "cell_type": "code",
   "execution_count": 17,
   "id": "f24431c4",
   "metadata": {},
   "outputs": [
    {
     "name": "stdout",
     "output_type": "stream",
     "text": [
      "Saved PyTorch model state to model.pth\n"
     ]
    }
   ],
   "source": [
    "torch.save(model.state_dict(), 'model.pth')\n",
    "print(\"Saved PyTorch model state to model.pth\")"
   ]
  },
  {
   "cell_type": "code",
   "execution_count": 18,
   "id": "e4cbb1e2",
   "metadata": {},
   "outputs": [
    {
     "name": "stderr",
     "output_type": "stream",
     "text": [
      "/tmp/ipykernel_1508/729305697.py:2: FutureWarning: You are using `torch.load` with `weights_only=False` (the current default value), which uses the default pickle module implicitly. It is possible to construct malicious pickle data which will execute arbitrary code during unpickling (See https://github.com/pytorch/pytorch/blob/main/SECURITY.md#untrusted-models for more details). In a future release, the default value for `weights_only` will be flipped to `True`. This limits the functions that could be executed during unpickling. Arbitrary objects will no longer be allowed to be loaded via this mode unless they are explicitly allowlisted by the user via `torch.serialization.add_safe_globals`. We recommend you start setting `weights_only=True` for any use case where you don't have full control of the loaded file. Please open an issue on GitHub for any issues related to this experimental feature.\n",
      "  model.load_state_dict(torch.load('model.pth'))\n"
     ]
    },
    {
     "data": {
      "text/plain": [
       "<All keys matched successfully>"
      ]
     },
     "execution_count": 18,
     "metadata": {},
     "output_type": "execute_result"
    }
   ],
   "source": [
    "model = NeuralNetwork().to(device)\n",
    "model.load_state_dict(torch.load('model.pth'))"
   ]
  },
  {
   "cell_type": "code",
   "execution_count": 22,
   "id": "5fd6e590",
   "metadata": {},
   "outputs": [
    {
     "name": "stdout",
     "output_type": "stream",
     "text": [
      "Predicted: Ankle boot, Actual: Ankle boot\n"
     ]
    }
   ],
   "source": [
    "classes = [\n",
    "    \"T-shirt/top\",\n",
    "    \"Trouser\",\n",
    "    \"Pullover\",\n",
    "    \"Dress\",\n",
    "    \"Coat\",\n",
    "    \"Sandal\",\n",
    "    \"Shirt\",\n",
    "    \"Sneaker\",\n",
    "    \"Bag\",\n",
    "    \"Ankle boot\",\n",
    "]\n",
    "\n",
    "model.eval()\n",
    "X, y = testData[0][0], testData[0][1]\n",
    "with torch.no_grad():\n",
    "    X = X.to(device)\n",
    "    pred = model(X)\n",
    "    predicted, actual = classes[pred[0].argmax(0)], classes[y]\n",
    "    print(f\"Predicted: {predicted}, Actual: {actual}\")"
   ]
  },
  {
   "cell_type": "code",
   "execution_count": null,
   "id": "8bc85dc7",
   "metadata": {},
   "outputs": [],
   "source": []
  }
 ],
 "metadata": {
  "kernelspec": {
   "display_name": "Python 3 (ipykernel)",
   "language": "python",
   "name": "python3"
  },
  "language_info": {
   "codemirror_mode": {
    "name": "ipython",
    "version": 3
   },
   "file_extension": ".py",
   "mimetype": "text/x-python",
   "name": "python",
   "nbconvert_exporter": "python",
   "pygments_lexer": "ipython3",
   "version": "3.8.10"
  }
 },
 "nbformat": 4,
 "nbformat_minor": 5
}
